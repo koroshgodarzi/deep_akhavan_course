{
  "cells": [
    {
      "cell_type": "code",
      "execution_count": 2,
      "metadata": {
        "colab": {
          "base_uri": "https://localhost:8080/"
        },
        "id": "2QRZ5YJXcm_R",
        "outputId": "ede5bba5-4ca8-4f5e-a98b-142600c297a5"
      },
      "outputs": [
        {
          "output_type": "stream",
          "name": "stdout",
          "text": [
            "mkdir: cannot create directory ‘/root/.kaggle’: File exists\n",
            "404 Client Error: Not Found for url: https://www.kaggle.com/api/v1/competitions/data/download-all//vuppalaadithyasairam/bone-fracture-detection-using-xrays\n"
          ]
        }
      ],
      "source": [
        " ! pip install -q kaggle\n",
        " ! mkdir ~/.kaggle\n",
        " ! cp kaggle.json ~/.kaggle/\n",
        " ! chmod 600 ~/.kaggle/kaggle.json\n",
        " ! kaggle competitions download -c /vuppalaadithyasairam/bone-fracture-detection-using-xrays"
      ]
    },
    {
      "cell_type": "code",
      "execution_count": 3,
      "metadata": {
        "colab": {
          "base_uri": "https://localhost:8080/"
        },
        "id": "X3vxzcGKhMX9",
        "outputId": "601c3d94-9474-4aec-aadd-f56101da9574"
      },
      "outputs": [
        {
          "output_type": "stream",
          "name": "stdout",
          "text": [
            "Downloading from https://www.kaggle.com/api/v1/datasets/download/vuppalaadithyasairam/bone-fracture-detection-using-xrays?dataset_version_number=1...\n"
          ]
        },
        {
          "output_type": "stream",
          "name": "stderr",
          "text": [
            "100%|██████████| 172M/172M [00:02<00:00, 73.6MB/s]"
          ]
        },
        {
          "output_type": "stream",
          "name": "stdout",
          "text": [
            "Extracting files...\n"
          ]
        },
        {
          "output_type": "stream",
          "name": "stderr",
          "text": [
            "\n"
          ]
        },
        {
          "output_type": "stream",
          "name": "stdout",
          "text": [
            "Path to dataset files: /root/.cache/kagglehub/datasets/vuppalaadithyasairam/bone-fracture-detection-using-xrays/versions/1\n"
          ]
        }
      ],
      "source": [
        "import kagglehub\n",
        "\n",
        "# Download latest version\n",
        "path = kagglehub.dataset_download(\"vuppalaadithyasairam/bone-fracture-detection-using-xrays\")\n",
        "\n",
        "print(\"Path to dataset files:\", path)"
      ]
    },
    {
      "cell_type": "code",
      "execution_count": 4,
      "metadata": {
        "id": "jwy4AG0meE5h"
      },
      "outputs": [],
      "source": [
        "import tensorflow as tf\n",
        "import os\n",
        "import glob\n",
        "\n",
        "train_files = tf.data.Dataset.list_files(glob.glob(os.path.join(path, 'archive (6)', 'train', '*', '*'+'.jpg')),\n",
        "                                        shuffle=True,\n",
        "                                        seed=123)\n",
        "val_files = tf.data.Dataset.list_files(glob.glob(os.path.join(path, 'archive (6)', 'val', '*', '*'+'.jpg')),\n",
        "                                        shuffle=True,\n",
        "                                        seed=123)"
      ]
    },
    {
      "cell_type": "code",
      "execution_count": 5,
      "metadata": {
        "colab": {
          "base_uri": "https://localhost:8080/"
        },
        "id": "WlusYkSRxQir",
        "outputId": "3d16f2ca-85c2-4b37-ff0d-95be8fb7370c"
      },
      "outputs": [
        {
          "output_type": "stream",
          "name": "stdout",
          "text": [
            "tf.Tensor(b'/root/.cache/kagglehub/datasets/vuppalaadithyasairam/bone-fracture-detection-using-xrays/versions/1/archive (6)/train/not fractured/16-rotated2-rotated1-rotated3.jpg', shape=(), dtype=string)\n"
          ]
        }
      ],
      "source": [
        "import matplotlib.pyplot as plt\n",
        "\n",
        "for i in train_files.take(1):\n",
        "  print(i)"
      ]
    },
    {
      "cell_type": "code",
      "execution_count": 6,
      "metadata": {
        "id": "o3NAwec5j9BL"
      },
      "outputs": [],
      "source": [
        "def image_label_io(path):\n",
        "  img = tf.io.read_file(path)\n",
        "  img = tf.io.decode_jpeg(img, 1)\n",
        "  img = tf.image.resize(img, (128, 128))\n",
        "  img = tf.image.grayscale_to_rgb(img)\n",
        "  img = tf.image.convert_image_dtype(img, tf.float32)\n",
        "\n",
        "  l = tf.strings.split(path, os.path.sep)\n",
        "  label = (l[-2]=='fractured')\n",
        "\n",
        "  return (img, label)"
      ]
    },
    {
      "cell_type": "code",
      "execution_count": 7,
      "metadata": {
        "id": "OYhYhypb7H-Z"
      },
      "outputs": [],
      "source": [
        "def data_augment(img):\n",
        "  img = tf.image.random_flip_left_right(img)\n",
        "  img = tf.image.random_flip_up_down(img)\n",
        "  img = tf.image.random_contrast(img, 0.9, 1.1)\n",
        "  img = tf.image.random_brightness(img, 0.1)\n",
        "\n",
        "  return img"
      ]
    },
    {
      "cell_type": "code",
      "execution_count": 8,
      "metadata": {
        "id": "p89HndpykBB_"
      },
      "outputs": [],
      "source": [
        "def img_prep(img):\n",
        "  img = tf.keras.applications.vgg16.preprocess_input(img)\n",
        "\n",
        "  return img"
      ]
    },
    {
      "cell_type": "code",
      "execution_count": 9,
      "metadata": {
        "colab": {
          "base_uri": "https://localhost:8080/"
        },
        "id": "DT7qybKekNqn",
        "outputId": "1a41a4c9-5669-4ae2-f670-a3823a3664a3"
      },
      "outputs": [
        {
          "output_type": "execute_result",
          "data": {
            "text/plain": [
              "<_PrefetchDataset element_spec=(TensorSpec(shape=(None, 128, 128, 3), dtype=tf.float32, name=None), TensorSpec(shape=(None,), dtype=tf.bool, name=None))>"
            ]
          },
          "metadata": {},
          "execution_count": 9
        }
      ],
      "source": [
        "train_set = train_files.map(image_label_io)\n",
        "train_set = train_set.map(lambda x, y: (img_prep(x), y))\n",
        "train_set = train_set.map(lambda x, y: (data_augment(x), y))\n",
        "train_set = train_set.batch(32)\n",
        "train_set.cache().prefetch(tf.data.AUTOTUNE)\n",
        "\n",
        "val_set = val_files.map(image_label_io)\n",
        "val_set = val_set.map(lambda x, y: (img_prep(x), y))\n",
        "val_set = val_set.batch(32)\n",
        "train_set.cache().prefetch(tf.data.AUTOTUNE)\n"
      ]
    },
    {
      "cell_type": "code",
      "execution_count": 10,
      "metadata": {
        "id": "MPs8syZZnKRQ",
        "colab": {
          "base_uri": "https://localhost:8080/"
        },
        "outputId": "4db0cc38-135a-4d82-b494-8fc8ba9958a6"
      },
      "outputs": [
        {
          "output_type": "stream",
          "name": "stdout",
          "text": [
            "Downloading data from https://storage.googleapis.com/tensorflow/keras-applications/vgg16/vgg16_weights_tf_dim_ordering_tf_kernels_notop.h5\n",
            "\u001b[1m58889256/58889256\u001b[0m \u001b[32m━━━━━━━━━━━━━━━━━━━━\u001b[0m\u001b[37m\u001b[0m \u001b[1m0s\u001b[0m 0us/step\n"
          ]
        }
      ],
      "source": [
        "from tensorflow.keras import Sequential\n",
        "from tensorflow.keras.layers import  Dense, Dropout, Flatten\n",
        "\n",
        "base_model =tf.keras.applications.VGG16(include_top=False,\n",
        "                                        weights=\"imagenet\",\n",
        "                                        pooling='avg')\n",
        "base_model.trainable = False\n",
        "\n",
        "model = Sequential([\n",
        "    base_model,\n",
        "    Flatten(),\n",
        "    Dropout(0.5),\n",
        "    Dense(2, activation='softmax')\n",
        "])"
      ]
    },
    {
      "cell_type": "markdown",
      "source": [
        "Using a file to schedule learning rate."
      ],
      "metadata": {
        "id": "qPwHpCnulv4-"
      }
    },
    {
      "cell_type": "code",
      "execution_count": 12,
      "metadata": {
        "colab": {
          "base_uri": "https://localhost:8080/"
        },
        "id": "Jf_i9KGXAg6p",
        "outputId": "17548cd3-26d4-49b0-f305-a28425b6741b"
      },
      "outputs": [
        {
          "output_type": "stream",
          "name": "stdout",
          "text": [
            "0.00001\n",
            "\n"
          ]
        }
      ],
      "source": [
        "with open('lr.txt', 'r') as f:\n",
        "  print(f.readlines()[1])"
      ]
    },
    {
      "cell_type": "code",
      "execution_count": 13,
      "metadata": {
        "id": "uvstnNlf_COA"
      },
      "outputs": [],
      "source": [
        "import numpy as np\n",
        "\n",
        "def read_from_file(file_name):\n",
        "  def lr_setter(epoch, lr):\n",
        "    with open(file_name, 'r') as f:\n",
        "      if epoch < 20:\n",
        "        return np.float32(f.readlines()[0])\n",
        "      if epoch >= 20:\n",
        "        return np.float32(f.readlines()[1])\n",
        "  return lr_setter"
      ]
    },
    {
      "cell_type": "code",
      "execution_count": 14,
      "metadata": {
        "id": "9s3pIpho_2_n"
      },
      "outputs": [],
      "source": [
        "scheduler = read_from_file('lr.txt')\n",
        "myCallback = tf.keras.callbacks.LearningRateScheduler(scheduler)"
      ]
    },
    {
      "cell_type": "code",
      "execution_count": 15,
      "metadata": {
        "colab": {
          "base_uri": "https://localhost:8080/"
        },
        "id": "l0AASGQQoBqt",
        "outputId": "88a86a95-181c-40ac-c4eb-9347b3260d30"
      },
      "outputs": [
        {
          "output_type": "stream",
          "name": "stdout",
          "text": [
            "Epoch 1/40\n",
            "\u001b[1m277/277\u001b[0m \u001b[32m━━━━━━━━━━━━━━━━━━━━\u001b[0m\u001b[37m\u001b[0m \u001b[1m42s\u001b[0m 122ms/step - accuracy: 0.4925 - loss: 4.7301 - val_accuracy: 0.4433 - val_loss: 1.8888 - learning_rate: 1.0000e-04\n",
            "Epoch 2/40\n",
            "\u001b[1m277/277\u001b[0m \u001b[32m━━━━━━━━━━━━━━━━━━━━\u001b[0m\u001b[37m\u001b[0m \u001b[1m18s\u001b[0m 66ms/step - accuracy: 0.5229 - loss: 3.7916 - val_accuracy: 0.5367 - val_loss: 1.5010 - learning_rate: 1.0000e-04\n",
            "Epoch 3/40\n",
            "\u001b[1m277/277\u001b[0m \u001b[32m━━━━━━━━━━━━━━━━━━━━\u001b[0m\u001b[37m\u001b[0m \u001b[1m20s\u001b[0m 65ms/step - accuracy: 0.5368 - loss: 3.0695 - val_accuracy: 0.5917 - val_loss: 1.1516 - learning_rate: 1.0000e-04\n",
            "Epoch 4/40\n",
            "\u001b[1m277/277\u001b[0m \u001b[32m━━━━━━━━━━━━━━━━━━━━\u001b[0m\u001b[37m\u001b[0m \u001b[1m18s\u001b[0m 66ms/step - accuracy: 0.5597 - loss: 2.4356 - val_accuracy: 0.6517 - val_loss: 0.9624 - learning_rate: 1.0000e-04\n",
            "Epoch 5/40\n",
            "\u001b[1m277/277\u001b[0m \u001b[32m━━━━━━━━━━━━━━━━━━━━\u001b[0m\u001b[37m\u001b[0m \u001b[1m19s\u001b[0m 67ms/step - accuracy: 0.5699 - loss: 2.0423 - val_accuracy: 0.6900 - val_loss: 0.8102 - learning_rate: 1.0000e-04\n",
            "Epoch 6/40\n",
            "\u001b[1m277/277\u001b[0m \u001b[32m━━━━━━━━━━━━━━━━━━━━\u001b[0m\u001b[37m\u001b[0m \u001b[1m19s\u001b[0m 67ms/step - accuracy: 0.5844 - loss: 1.7370 - val_accuracy: 0.7050 - val_loss: 0.6600 - learning_rate: 1.0000e-04\n",
            "Epoch 7/40\n",
            "\u001b[1m277/277\u001b[0m \u001b[32m━━━━━━━━━━━━━━━━━━━━\u001b[0m\u001b[37m\u001b[0m \u001b[1m20s\u001b[0m 64ms/step - accuracy: 0.5945 - loss: 1.4290 - val_accuracy: 0.7267 - val_loss: 0.5979 - learning_rate: 1.0000e-04\n",
            "Epoch 8/40\n",
            "\u001b[1m277/277\u001b[0m \u001b[32m━━━━━━━━━━━━━━━━━━━━\u001b[0m\u001b[37m\u001b[0m \u001b[1m18s\u001b[0m 66ms/step - accuracy: 0.6175 - loss: 1.1610 - val_accuracy: 0.7650 - val_loss: 0.5415 - learning_rate: 1.0000e-04\n",
            "Epoch 9/40\n",
            "\u001b[1m277/277\u001b[0m \u001b[32m━━━━━━━━━━━━━━━━━━━━\u001b[0m\u001b[37m\u001b[0m \u001b[1m18s\u001b[0m 66ms/step - accuracy: 0.6324 - loss: 1.0288 - val_accuracy: 0.7717 - val_loss: 0.5158 - learning_rate: 1.0000e-04\n",
            "Epoch 10/40\n",
            "\u001b[1m277/277\u001b[0m \u001b[32m━━━━━━━━━━━━━━━━━━━━\u001b[0m\u001b[37m\u001b[0m \u001b[1m18s\u001b[0m 66ms/step - accuracy: 0.6471 - loss: 0.9130 - val_accuracy: 0.7483 - val_loss: 0.4950 - learning_rate: 1.0000e-04\n",
            "Epoch 11/40\n",
            "\u001b[1m277/277\u001b[0m \u001b[32m━━━━━━━━━━━━━━━━━━━━\u001b[0m\u001b[37m\u001b[0m \u001b[1m18s\u001b[0m 64ms/step - accuracy: 0.6612 - loss: 0.7918 - val_accuracy: 0.7483 - val_loss: 0.4833 - learning_rate: 1.0000e-04\n",
            "Epoch 12/40\n",
            "\u001b[1m277/277\u001b[0m \u001b[32m━━━━━━━━━━━━━━━━━━━━\u001b[0m\u001b[37m\u001b[0m \u001b[1m18s\u001b[0m 66ms/step - accuracy: 0.6732 - loss: 0.7415 - val_accuracy: 0.7533 - val_loss: 0.4924 - learning_rate: 1.0000e-04\n",
            "Epoch 13/40\n",
            "\u001b[1m277/277\u001b[0m \u001b[32m━━━━━━━━━━━━━━━━━━━━\u001b[0m\u001b[37m\u001b[0m \u001b[1m18s\u001b[0m 65ms/step - accuracy: 0.6808 - loss: 0.6699 - val_accuracy: 0.7467 - val_loss: 0.4672 - learning_rate: 1.0000e-04\n",
            "Epoch 14/40\n",
            "\u001b[1m277/277\u001b[0m \u001b[32m━━━━━━━━━━━━━━━━━━━━\u001b[0m\u001b[37m\u001b[0m \u001b[1m18s\u001b[0m 66ms/step - accuracy: 0.6946 - loss: 0.6382 - val_accuracy: 0.7267 - val_loss: 0.5055 - learning_rate: 1.0000e-04\n",
            "Epoch 15/40\n",
            "\u001b[1m277/277\u001b[0m \u001b[32m━━━━━━━━━━━━━━━━━━━━\u001b[0m\u001b[37m\u001b[0m \u001b[1m20s\u001b[0m 65ms/step - accuracy: 0.7091 - loss: 0.5960 - val_accuracy: 0.7317 - val_loss: 0.4883 - learning_rate: 1.0000e-04\n",
            "Epoch 16/40\n",
            "\u001b[1m277/277\u001b[0m \u001b[32m━━━━━━━━━━━━━━━━━━━━\u001b[0m\u001b[37m\u001b[0m \u001b[1m18s\u001b[0m 66ms/step - accuracy: 0.7011 - loss: 0.6024 - val_accuracy: 0.7333 - val_loss: 0.4864 - learning_rate: 1.0000e-04\n",
            "Epoch 17/40\n",
            "\u001b[1m277/277\u001b[0m \u001b[32m━━━━━━━━━━━━━━━━━━━━\u001b[0m\u001b[37m\u001b[0m \u001b[1m18s\u001b[0m 65ms/step - accuracy: 0.7159 - loss: 0.5638 - val_accuracy: 0.7417 - val_loss: 0.4941 - learning_rate: 1.0000e-04\n",
            "Epoch 18/40\n",
            "\u001b[1m277/277\u001b[0m \u001b[32m━━━━━━━━━━━━━━━━━━━━\u001b[0m\u001b[37m\u001b[0m \u001b[1m18s\u001b[0m 66ms/step - accuracy: 0.7171 - loss: 0.5599 - val_accuracy: 0.7417 - val_loss: 0.4873 - learning_rate: 1.0000e-04\n",
            "Epoch 19/40\n",
            "\u001b[1m277/277\u001b[0m \u001b[32m━━━━━━━━━━━━━━━━━━━━\u001b[0m\u001b[37m\u001b[0m \u001b[1m18s\u001b[0m 64ms/step - accuracy: 0.7168 - loss: 0.5511 - val_accuracy: 0.7183 - val_loss: 0.5063 - learning_rate: 1.0000e-04\n",
            "Epoch 20/40\n",
            "\u001b[1m277/277\u001b[0m \u001b[32m━━━━━━━━━━━━━━━━━━━━\u001b[0m\u001b[37m\u001b[0m \u001b[1m19s\u001b[0m 70ms/step - accuracy: 0.7026 - loss: 0.5698 - val_accuracy: 0.7117 - val_loss: 0.5186 - learning_rate: 1.0000e-04\n",
            "Epoch 21/40\n",
            "\u001b[1m277/277\u001b[0m \u001b[32m━━━━━━━━━━━━━━━━━━━━\u001b[0m\u001b[37m\u001b[0m \u001b[1m18s\u001b[0m 65ms/step - accuracy: 0.7244 - loss: 0.5457 - val_accuracy: 0.7083 - val_loss: 0.5218 - learning_rate: 1.0000e-05\n",
            "Epoch 22/40\n",
            "\u001b[1m277/277\u001b[0m \u001b[32m━━━━━━━━━━━━━━━━━━━━\u001b[0m\u001b[37m\u001b[0m \u001b[1m21s\u001b[0m 67ms/step - accuracy: 0.7264 - loss: 0.5364 - val_accuracy: 0.7167 - val_loss: 0.5157 - learning_rate: 1.0000e-05\n",
            "Epoch 23/40\n",
            "\u001b[1m277/277\u001b[0m \u001b[32m━━━━━━━━━━━━━━━━━━━━\u001b[0m\u001b[37m\u001b[0m \u001b[1m18s\u001b[0m 66ms/step - accuracy: 0.7270 - loss: 0.5441 - val_accuracy: 0.6933 - val_loss: 0.5318 - learning_rate: 1.0000e-05\n",
            "Epoch 24/40\n",
            "\u001b[1m277/277\u001b[0m \u001b[32m━━━━━━━━━━━━━━━━━━━━\u001b[0m\u001b[37m\u001b[0m \u001b[1m18s\u001b[0m 66ms/step - accuracy: 0.7213 - loss: 0.5456 - val_accuracy: 0.7067 - val_loss: 0.5254 - learning_rate: 1.0000e-05\n",
            "Epoch 25/40\n",
            "\u001b[1m277/277\u001b[0m \u001b[32m━━━━━━━━━━━━━━━━━━━━\u001b[0m\u001b[37m\u001b[0m \u001b[1m18s\u001b[0m 64ms/step - accuracy: 0.7148 - loss: 0.5537 - val_accuracy: 0.6983 - val_loss: 0.5291 - learning_rate: 1.0000e-05\n",
            "Epoch 26/40\n",
            "\u001b[1m277/277\u001b[0m \u001b[32m━━━━━━━━━━━━━━━━━━━━\u001b[0m\u001b[37m\u001b[0m \u001b[1m18s\u001b[0m 65ms/step - accuracy: 0.7228 - loss: 0.5490 - val_accuracy: 0.6917 - val_loss: 0.5322 - learning_rate: 1.0000e-05\n",
            "Epoch 27/40\n",
            "\u001b[1m277/277\u001b[0m \u001b[32m━━━━━━━━━━━━━━━━━━━━\u001b[0m\u001b[37m\u001b[0m \u001b[1m20s\u001b[0m 64ms/step - accuracy: 0.7247 - loss: 0.5321 - val_accuracy: 0.6983 - val_loss: 0.5278 - learning_rate: 1.0000e-05\n",
            "Epoch 28/40\n",
            "\u001b[1m277/277\u001b[0m \u001b[32m━━━━━━━━━━━━━━━━━━━━\u001b[0m\u001b[37m\u001b[0m \u001b[1m20s\u001b[0m 64ms/step - accuracy: 0.7261 - loss: 0.5440 - val_accuracy: 0.6933 - val_loss: 0.5363 - learning_rate: 1.0000e-05\n",
            "Epoch 29/40\n",
            "\u001b[1m277/277\u001b[0m \u001b[32m━━━━━━━━━━━━━━━━━━━━\u001b[0m\u001b[37m\u001b[0m \u001b[1m18s\u001b[0m 64ms/step - accuracy: 0.7238 - loss: 0.5352 - val_accuracy: 0.6950 - val_loss: 0.5355 - learning_rate: 1.0000e-05\n",
            "Epoch 30/40\n",
            "\u001b[1m277/277\u001b[0m \u001b[32m━━━━━━━━━━━━━━━━━━━━\u001b[0m\u001b[37m\u001b[0m \u001b[1m18s\u001b[0m 66ms/step - accuracy: 0.7308 - loss: 0.5401 - val_accuracy: 0.7017 - val_loss: 0.5269 - learning_rate: 1.0000e-05\n",
            "Epoch 31/40\n",
            "\u001b[1m277/277\u001b[0m \u001b[32m━━━━━━━━━━━━━━━━━━━━\u001b[0m\u001b[37m\u001b[0m \u001b[1m18s\u001b[0m 64ms/step - accuracy: 0.7279 - loss: 0.5376 - val_accuracy: 0.6967 - val_loss: 0.5348 - learning_rate: 1.0000e-05\n",
            "Epoch 32/40\n",
            "\u001b[1m277/277\u001b[0m \u001b[32m━━━━━━━━━━━━━━━━━━━━\u001b[0m\u001b[37m\u001b[0m \u001b[1m18s\u001b[0m 65ms/step - accuracy: 0.7343 - loss: 0.5350 - val_accuracy: 0.6950 - val_loss: 0.5310 - learning_rate: 1.0000e-05\n",
            "Epoch 33/40\n",
            "\u001b[1m277/277\u001b[0m \u001b[32m━━━━━━━━━━━━━━━━━━━━\u001b[0m\u001b[37m\u001b[0m \u001b[1m18s\u001b[0m 64ms/step - accuracy: 0.7231 - loss: 0.5460 - val_accuracy: 0.6900 - val_loss: 0.5374 - learning_rate: 1.0000e-05\n",
            "Epoch 34/40\n",
            "\u001b[1m277/277\u001b[0m \u001b[32m━━━━━━━━━━━━━━━━━━━━\u001b[0m\u001b[37m\u001b[0m \u001b[1m18s\u001b[0m 66ms/step - accuracy: 0.7169 - loss: 0.5419 - val_accuracy: 0.6967 - val_loss: 0.5342 - learning_rate: 1.0000e-05\n",
            "Epoch 35/40\n",
            "\u001b[1m277/277\u001b[0m \u001b[32m━━━━━━━━━━━━━━━━━━━━\u001b[0m\u001b[37m\u001b[0m \u001b[1m18s\u001b[0m 64ms/step - accuracy: 0.7371 - loss: 0.5227 - val_accuracy: 0.6983 - val_loss: 0.5292 - learning_rate: 1.0000e-05\n",
            "Epoch 36/40\n",
            "\u001b[1m277/277\u001b[0m \u001b[32m━━━━━━━━━━━━━━━━━━━━\u001b[0m\u001b[37m\u001b[0m \u001b[1m18s\u001b[0m 66ms/step - accuracy: 0.7303 - loss: 0.5441 - val_accuracy: 0.6933 - val_loss: 0.5325 - learning_rate: 1.0000e-05\n",
            "Epoch 37/40\n",
            "\u001b[1m277/277\u001b[0m \u001b[32m━━━━━━━━━━━━━━━━━━━━\u001b[0m\u001b[37m\u001b[0m \u001b[1m18s\u001b[0m 64ms/step - accuracy: 0.7341 - loss: 0.5318 - val_accuracy: 0.6867 - val_loss: 0.5380 - learning_rate: 1.0000e-05\n",
            "Epoch 38/40\n",
            "\u001b[1m277/277\u001b[0m \u001b[32m━━━━━━━━━━━━━━━━━━━━\u001b[0m\u001b[37m\u001b[0m \u001b[1m21s\u001b[0m 67ms/step - accuracy: 0.7271 - loss: 0.5375 - val_accuracy: 0.6917 - val_loss: 0.5342 - learning_rate: 1.0000e-05\n",
            "Epoch 39/40\n",
            "\u001b[1m277/277\u001b[0m \u001b[32m━━━━━━━━━━━━━━━━━━━━\u001b[0m\u001b[37m\u001b[0m \u001b[1m18s\u001b[0m 64ms/step - accuracy: 0.7193 - loss: 0.5387 - val_accuracy: 0.6967 - val_loss: 0.5321 - learning_rate: 1.0000e-05\n",
            "Epoch 40/40\n",
            "\u001b[1m277/277\u001b[0m \u001b[32m━━━━━━━━━━━━━━━━━━━━\u001b[0m\u001b[37m\u001b[0m \u001b[1m18s\u001b[0m 66ms/step - accuracy: 0.7397 - loss: 0.5275 - val_accuracy: 0.6900 - val_loss: 0.5399 - learning_rate: 1.0000e-05\n"
          ]
        },
        {
          "output_type": "execute_result",
          "data": {
            "text/plain": [
              "<keras.src.callbacks.history.History at 0x783127934ad0>"
            ]
          },
          "metadata": {},
          "execution_count": 15
        }
      ],
      "source": [
        "model.compile(optimizer=tf.keras.optimizers.Adam(learning_rate=0.0001), loss='sparse_categorical_crossentropy', metrics=['accuracy'])\n",
        "model.fit(train_set, epochs=40, validation_data=val_set, callbacks=[myCallback])\n"
      ]
    },
    {
      "cell_type": "code",
      "execution_count": null,
      "metadata": {
        "id": "mejpZ-pzweZ1"
      },
      "outputs": [],
      "source": []
    }
  ],
  "metadata": {
    "accelerator": "GPU",
    "colab": {
      "gpuType": "T4",
      "provenance": []
    },
    "kernelspec": {
      "display_name": "Python 3 (ipykernel)",
      "language": "python",
      "name": "python3"
    },
    "language_info": {
      "codemirror_mode": {
        "name": "ipython",
        "version": 3
      },
      "file_extension": ".py",
      "mimetype": "text/x-python",
      "name": "python",
      "nbconvert_exporter": "python",
      "pygments_lexer": "ipython3",
      "version": "3.11.6"
    }
  },
  "nbformat": 4,
  "nbformat_minor": 0
}