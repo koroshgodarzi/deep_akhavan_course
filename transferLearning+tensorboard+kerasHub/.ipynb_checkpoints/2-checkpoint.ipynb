{
  "nbformat": 4,
  "nbformat_minor": 0,
  "metadata": {
    "colab": {
      "provenance": [],
      "gpuType": "T4"
    },
    "kernelspec": {
      "name": "python3",
      "display_name": "Python 3"
    },
    "language_info": {
      "name": "python"
    },
    "accelerator": "GPU"
  },
  "cells": [
    {
      "cell_type": "code",
      "execution_count": 16,
      "metadata": {
        "colab": {
          "base_uri": "https://localhost:8080/"
        },
        "id": "2QRZ5YJXcm_R",
        "outputId": "10cd9eb8-8efc-4856-b633-1f1840977cdf"
      },
      "outputs": [
        {
          "output_type": "stream",
          "name": "stdout",
          "text": [
            "mkdir: cannot create directory ‘/root/.kaggle’: File exists\n",
            "Warning: Your Kaggle API key is readable by other users on this system! To fix this, you can run 'chmod 600 /root/.kaggle/kaggle.json'\n",
            "404 Client Error: Not Found for url: https://www.kaggle.com/api/v1/competitions/data/download-all//vuppalaadithyasairam/bone-fracture-detection-using-xrays\n"
          ]
        }
      ],
      "source": [
        " ! pip install -q kaggle\n",
        " ! mkdir ~/.kaggle\n",
        " ! cp kaggle.json ~/.kaggle/\n",
        "#  ! chmod 600 ~/.kaggle/kaggle.json\n",
        " ! kaggle competitions download -c /vuppalaadithyasairam/bone-fracture-detection-using-xrays"
      ]
    },
    {
      "cell_type": "code",
      "source": [
        "import kagglehub\n",
        "\n",
        "# Download latest version\n",
        "path = kagglehub.dataset_download(\"vuppalaadithyasairam/bone-fracture-detection-using-xrays\")\n",
        "\n",
        "print(\"Path to dataset files:\", path)"
      ],
      "metadata": {
        "colab": {
          "base_uri": "https://localhost:8080/"
        },
        "id": "X3vxzcGKhMX9",
        "outputId": "71d46e61-eac9-4e06-d756-03b3c1abfe2f"
      },
      "execution_count": 1,
      "outputs": [
        {
          "output_type": "stream",
          "name": "stdout",
          "text": [
            "Downloading from https://www.kaggle.com/api/v1/datasets/download/vuppalaadithyasairam/bone-fracture-detection-using-xrays?dataset_version_number=1...\n"
          ]
        },
        {
          "output_type": "stream",
          "name": "stderr",
          "text": [
            "100%|██████████| 172M/172M [00:02<00:00, 82.9MB/s]"
          ]
        },
        {
          "output_type": "stream",
          "name": "stdout",
          "text": [
            "Extracting files...\n"
          ]
        },
        {
          "output_type": "stream",
          "name": "stderr",
          "text": [
            "\n"
          ]
        },
        {
          "output_type": "stream",
          "name": "stdout",
          "text": [
            "Path to dataset files: /root/.cache/kagglehub/datasets/vuppalaadithyasairam/bone-fracture-detection-using-xrays/versions/1\n"
          ]
        }
      ]
    },
    {
      "cell_type": "code",
      "source": [
        "import tensorflow as tf\n",
        "import os\n",
        "import glob\n",
        "\n",
        "train_files = tf.data.Dataset.list_files(glob.glob(os.path.join(path, 'archive (6)', 'train', '*', '*'+'.jpg')),\n",
        "                                        shuffle=True,\n",
        "                                        seed=123)\n",
        "val_files = tf.data.Dataset.list_files(glob.glob(os.path.join(path, 'archive (6)', 'val', '*', '*'+'.jpg')),\n",
        "                                        shuffle=True,\n",
        "                                        seed=123)"
      ],
      "metadata": {
        "id": "jwy4AG0meE5h"
      },
      "execution_count": 2,
      "outputs": []
    },
    {
      "cell_type": "code",
      "source": [
        "import matplotlib.pyplot as plt\n",
        "\n",
        "for i in train_files.take(1):\n",
        "  print(i)"
      ],
      "metadata": {
        "colab": {
          "base_uri": "https://localhost:8080/"
        },
        "id": "WlusYkSRxQir",
        "outputId": "152bba5e-818f-4387-93b4-4a1e82724783"
      },
      "execution_count": 12,
      "outputs": [
        {
          "output_type": "stream",
          "name": "stdout",
          "text": [
            "tf.Tensor(b'/root/.cache/kagglehub/datasets/vuppalaadithyasairam/bone-fracture-detection-using-xrays/versions/1/archive (6)/train/fractured/78-rotated1-rotated3.jpg', shape=(), dtype=string)\n"
          ]
        }
      ]
    },
    {
      "cell_type": "code",
      "source": [
        "def image_label_io(path):\n",
        "  img = tf.io.read_file(path)\n",
        "  img = tf.io.decode_jpeg(img, 1)\n",
        "  img = tf.image.resize(img, (128, 128))\n",
        "  img = tf.image.grayscale_to_rgb(img)\n",
        "  img = tf.image.convert_image_dtype(img, tf.float32)\n",
        "\n",
        "  l = tf.strings.split(path, os.path.sep)\n",
        "  label = (l[-2]=='fractured')\n",
        "\n",
        "  return (img, label)"
      ],
      "metadata": {
        "id": "o3NAwec5j9BL"
      },
      "execution_count": 3,
      "outputs": []
    },
    {
      "cell_type": "code",
      "source": [
        "def data_augment(img):\n",
        "  img = tf.image.random_flip_left_right(img)\n",
        "  img = tf.image.random_flip_up_down(img)\n",
        "  img = tf.image.random_contrast(img, 0.9, 1.1)\n",
        "  img = tf.image.random_brightness(img, 0.1)\n",
        "\n",
        "  return img"
      ],
      "metadata": {
        "id": "OYhYhypb7H-Z"
      },
      "execution_count": 9,
      "outputs": []
    },
    {
      "cell_type": "code",
      "source": [
        "def img_prep(img):\n",
        "  img = tf.keras.applications.vgg16.preprocess_input(img)\n",
        "\n",
        "  return img"
      ],
      "metadata": {
        "id": "p89HndpykBB_"
      },
      "execution_count": 4,
      "outputs": []
    },
    {
      "cell_type": "code",
      "source": [
        "train_set = train_files.map(image_label_io)\n",
        "train_set = train_set.map(lambda x, y: (img_prep(x), y))\n",
        "train_set = train_set.map(lambda x, y: (data_augment(x), y))\n",
        "train_set = train_set.batch(32)\n",
        "train_set.cache().prefetch(tf.data.AUTOTUNE)\n",
        "\n",
        "val_set = val_files.map(image_label_io)\n",
        "val_set = val_set.map(lambda x, y: (img_prep(x), y))\n",
        "val_set = val_set.batch(32)\n",
        "train_set.cache().prefetch(tf.data.AUTOTUNE)\n"
      ],
      "metadata": {
        "colab": {
          "base_uri": "https://localhost:8080/"
        },
        "id": "DT7qybKekNqn",
        "outputId": "c1bf2661-b62b-4a96-859c-696eb7453d0e"
      },
      "execution_count": 10,
      "outputs": [
        {
          "output_type": "execute_result",
          "data": {
            "text/plain": [
              "<_PrefetchDataset element_spec=(TensorSpec(shape=(None, 128, 128, 3), dtype=tf.float32, name=None), TensorSpec(shape=(None,), dtype=tf.bool, name=None))>"
            ]
          },
          "metadata": {},
          "execution_count": 10
        }
      ]
    },
    {
      "cell_type": "code",
      "source": [
        "from tensorflow.keras import Sequential\n",
        "from tensorflow.keras.layers import  Dense, Dropout, Flatten\n",
        "\n",
        "base_model =tf.keras.applications.VGG16(include_top=False,\n",
        "                                        weights=\"imagenet\",\n",
        "                                        pooling='avg')\n",
        "base_model.trainable = False\n",
        "\n",
        "model = Sequential([\n",
        "    base_model,\n",
        "    Flatten(),\n",
        "    Dropout(0.5),\n",
        "    Dense(2, activation='softmax')\n",
        "])"
      ],
      "metadata": {
        "id": "MPs8syZZnKRQ"
      },
      "execution_count": 17,
      "outputs": []
    },
    {
      "cell_type": "code",
      "source": [
        "with open('lr.txt', 'r') as f:\n",
        "  print(f.readlines()[1])"
      ],
      "metadata": {
        "colab": {
          "base_uri": "https://localhost:8080/"
        },
        "id": "Jf_i9KGXAg6p",
        "outputId": "627c382d-cb51-4950-953f-27eed1ef10c3"
      },
      "execution_count": 46,
      "outputs": [
        {
          "output_type": "stream",
          "name": "stdout",
          "text": [
            "0.00001\n"
          ]
        }
      ]
    },
    {
      "cell_type": "code",
      "source": [
        "import numpy as np\n",
        "\n",
        "def read_from_file(file_name):\n",
        "  def lr_setter(epoch, lr):\n",
        "    with open(file_name, 'r') as f:\n",
        "      if epoch < 20:\n",
        "        return np.float32(f.readlines()[0])\n",
        "      if epoch >= 20:\n",
        "        return np.float32(f.readlines()[1])\n",
        "  return lr_setter"
      ],
      "metadata": {
        "id": "uvstnNlf_COA"
      },
      "execution_count": 50,
      "outputs": []
    },
    {
      "cell_type": "code",
      "source": [
        "scheduler = read_from_file('lr.txt')\n",
        "myCallback = tf.keras.callbacks.LearningRateScheduler(scheduler)"
      ],
      "metadata": {
        "id": "9s3pIpho_2_n"
      },
      "execution_count": 51,
      "outputs": []
    },
    {
      "cell_type": "code",
      "source": [
        "model.compile(optimizer=tf.keras.optimizers.Adam(learning_rate=0.0001), loss='sparse_categorical_crossentropy', metrics=['accuracy'])\n",
        "model.fit(train_set, epochs=25, validation_data=val_set, callbacks=[myCallback], initial_epoch=15)\n"
      ],
      "metadata": {
        "colab": {
          "base_uri": "https://localhost:8080/"
        },
        "id": "l0AASGQQoBqt",
        "outputId": "9c25eb76-3627-4357-ffba-c342ae1d5a83"
      },
      "execution_count": 52,
      "outputs": [
        {
          "output_type": "stream",
          "name": "stdout",
          "text": [
            "Epoch 16/25\n",
            "\u001b[1m277/277\u001b[0m \u001b[32m━━━━━━━━━━━━━━━━━━━━\u001b[0m\u001b[37m\u001b[0m \u001b[1m23s\u001b[0m 75ms/step - accuracy: 0.7081 - loss: 0.6110 - val_accuracy: 0.6900 - val_loss: 0.5636 - learning_rate: 1.0000e-05\n",
            "Epoch 17/25\n",
            "\u001b[1m277/277\u001b[0m \u001b[32m━━━━━━━━━━━━━━━━━━━━\u001b[0m\u001b[37m\u001b[0m \u001b[1m19s\u001b[0m 69ms/step - accuracy: 0.7045 - loss: 0.6000 - val_accuracy: 0.6917 - val_loss: 0.5541 - learning_rate: 1.0000e-05\n",
            "Epoch 18/25\n",
            "\u001b[1m277/277\u001b[0m \u001b[32m━━━━━━━━━━━━━━━━━━━━\u001b[0m\u001b[37m\u001b[0m \u001b[1m20s\u001b[0m 68ms/step - accuracy: 0.7003 - loss: 0.6060 - val_accuracy: 0.6817 - val_loss: 0.5696 - learning_rate: 1.0000e-05\n",
            "Epoch 19/25\n",
            "\u001b[1m277/277\u001b[0m \u001b[32m━━━━━━━━━━━━━━━━━━━━\u001b[0m\u001b[37m\u001b[0m \u001b[1m20s\u001b[0m 66ms/step - accuracy: 0.7231 - loss: 0.5750 - val_accuracy: 0.6917 - val_loss: 0.5541 - learning_rate: 1.0000e-05\n",
            "Epoch 20/25\n",
            "\u001b[1m277/277\u001b[0m \u001b[32m━━━━━━━━━━━━━━━━━━━━\u001b[0m\u001b[37m\u001b[0m \u001b[1m21s\u001b[0m 66ms/step - accuracy: 0.7128 - loss: 0.5885 - val_accuracy: 0.6933 - val_loss: 0.5570 - learning_rate: 1.0000e-06\n",
            "Epoch 21/25\n",
            "\u001b[1m277/277\u001b[0m \u001b[32m━━━━━━━━━━━━━━━━━━━━\u001b[0m\u001b[37m\u001b[0m \u001b[1m19s\u001b[0m 68ms/step - accuracy: 0.7007 - loss: 0.6026 - val_accuracy: 0.6933 - val_loss: 0.5569 - learning_rate: 1.0000e-07\n",
            "Epoch 22/25\n",
            "\u001b[1m277/277\u001b[0m \u001b[32m━━━━━━━━━━━━━━━━━━━━\u001b[0m\u001b[37m\u001b[0m \u001b[1m20s\u001b[0m 67ms/step - accuracy: 0.7001 - loss: 0.5983 - val_accuracy: 0.6933 - val_loss: 0.5567 - learning_rate: 1.0000e-07\n",
            "Epoch 23/25\n",
            "\u001b[1m277/277\u001b[0m \u001b[32m━━━━━━━━━━━━━━━━━━━━\u001b[0m\u001b[37m\u001b[0m \u001b[1m19s\u001b[0m 68ms/step - accuracy: 0.7067 - loss: 0.6053 - val_accuracy: 0.6917 - val_loss: 0.5573 - learning_rate: 1.0000e-06\n",
            "Epoch 24/25\n",
            "\u001b[1m277/277\u001b[0m \u001b[32m━━━━━━━━━━━━━━━━━━━━\u001b[0m\u001b[37m\u001b[0m \u001b[1m18s\u001b[0m 66ms/step - accuracy: 0.6980 - loss: 0.5919 - val_accuracy: 0.6917 - val_loss: 0.5548 - learning_rate: 1.0000e-06\n",
            "Epoch 25/25\n",
            "\u001b[1m277/277\u001b[0m \u001b[32m━━━━━━━━━━━━━━━━━━━━\u001b[0m\u001b[37m\u001b[0m \u001b[1m21s\u001b[0m 67ms/step - accuracy: 0.6996 - loss: 0.6039 - val_accuracy: 0.6917 - val_loss: 0.5549 - learning_rate: 5.0000e-07\n"
          ]
        },
        {
          "output_type": "execute_result",
          "data": {
            "text/plain": [
              "<keras.src.callbacks.history.History at 0x7c6da5084190>"
            ]
          },
          "metadata": {},
          "execution_count": 52
        }
      ]
    },
    {
      "cell_type": "code",
      "source": [],
      "metadata": {
        "id": "mejpZ-pzweZ1"
      },
      "execution_count": 29,
      "outputs": []
    }
  ]
}