{
  "cells": [
    {
      "cell_type": "code",
      "execution_count": 1,
      "metadata": {
        "colab": {
          "base_uri": "https://localhost:8080/"
        },
        "id": "HK3h2DhMWMFc",
        "outputId": "99baeb68-97dc-4cf6-f3c0-6f70894782d0"
      },
      "outputs": [
        {
          "output_type": "stream",
          "name": "stdout",
          "text": [
            "Downloading data from https://storage.googleapis.com/tensorflow/tf-keras-datasets/train-labels-idx1-ubyte.gz\n",
            "\u001b[1m29515/29515\u001b[0m \u001b[32m━━━━━━━━━━━━━━━━━━━━\u001b[0m\u001b[37m\u001b[0m \u001b[1m0s\u001b[0m 0us/step\n",
            "Downloading data from https://storage.googleapis.com/tensorflow/tf-keras-datasets/train-images-idx3-ubyte.gz\n",
            "\u001b[1m26421880/26421880\u001b[0m \u001b[32m━━━━━━━━━━━━━━━━━━━━\u001b[0m\u001b[37m\u001b[0m \u001b[1m1s\u001b[0m 0us/step\n",
            "Downloading data from https://storage.googleapis.com/tensorflow/tf-keras-datasets/t10k-labels-idx1-ubyte.gz\n",
            "\u001b[1m5148/5148\u001b[0m \u001b[32m━━━━━━━━━━━━━━━━━━━━\u001b[0m\u001b[37m\u001b[0m \u001b[1m0s\u001b[0m 0us/step\n",
            "Downloading data from https://storage.googleapis.com/tensorflow/tf-keras-datasets/t10k-images-idx3-ubyte.gz\n",
            "\u001b[1m4422102/4422102\u001b[0m \u001b[32m━━━━━━━━━━━━━━━━━━━━\u001b[0m\u001b[37m\u001b[0m \u001b[1m1s\u001b[0m 0us/step\n"
          ]
        }
      ],
      "source": [
        "from tensorflow import keras\n",
        "from keras.datasets import fashion_mnist\n",
        "\n",
        "(x_train, y_train), (x_test, y_test) = fashion_mnist.load_data()"
      ]
    },
    {
      "cell_type": "code",
      "execution_count": 2,
      "metadata": {
        "id": "ZJwGHYKyXRAT"
      },
      "outputs": [],
      "source": [
        "import numpy as np\n",
        "\n",
        "x_train = x_train.astype(np.float32)/255\n",
        "x_test = x_test.astype(np.float32)/255"
      ]
    },
    {
      "cell_type": "code",
      "execution_count": 3,
      "metadata": {
        "colab": {
          "base_uri": "https://localhost:8080/"
        },
        "id": "hWqz7t-oW6-0",
        "outputId": "113244f9-3eb6-4090-d144-cc7ded45beb3"
      },
      "outputs": [
        {
          "output_type": "stream",
          "name": "stderr",
          "text": [
            "/usr/local/lib/python3.11/dist-packages/keras/src/layers/convolutional/base_conv.py:107: UserWarning: Do not pass an `input_shape`/`input_dim` argument to a layer. When using Sequential models, prefer using an `Input(shape)` object as the first layer in the model instead.\n",
            "  super().__init__(activity_regularizer=activity_regularizer, **kwargs)\n"
          ]
        }
      ],
      "source": [
        "from keras.models import Sequential\n",
        "from keras.layers import Dense, Flatten, Dropout\n",
        "from keras.layers import Conv2D, MaxPooling2D, GlobalAveragePooling2D\n",
        "\n",
        "model = Sequential([\n",
        "    Conv2D(8, (3, 3), padding='same', activation='relu', input_shape=(28, 28, 1)),\n",
        "    Conv2D(8, (3, 3), padding='same', activation='relu'),\n",
        "    MaxPooling2D((2, 2)),\n",
        "    Conv2D(16, (3, 3), padding='same', activation='relu'),\n",
        "    Conv2D(16, (3, 3), padding='same', activation='relu'),\n",
        "    MaxPooling2D((2, 2)),\n",
        "    Conv2D(32, (3, 3), padding='same', activation='relu'),\n",
        "    Conv2D(32, (3, 3), padding='same', activation='relu'),\n",
        "    MaxPooling2D((2, 2)),\n",
        "    Flatten(),\n",
        "    Dropout(0.5),\n",
        "    Dense(10)\n",
        "])\n"
      ]
    },
    {
      "cell_type": "code",
      "execution_count": 4,
      "metadata": {
        "id": "xntwKqENOVGS"
      },
      "outputs": [],
      "source": [
        "import tensorflow as tf\n",
        "import datetime\n",
        "\n",
        "log_dir = \"logs/fit/\" + datetime.datetime.now().strftime(\"%Y%m%d-%H%M%S\")\n",
        "myTensorBoard = tf.keras.callbacks.TensorBoard(log_dir=log_dir,\n",
        "                                                histogram_freq=5,\n",
        "                                                write_graph=True,\n",
        "                                                write_images=True,\n",
        "                                                update_freq='epoch',\n",
        "                                                profile_batch=[10, 20],\n",
        "                                                embeddings_freq=10,\n",
        "                                                embeddings_metadata=None\n",
        "                                            )"
      ]
    },
    {
      "cell_type": "code",
      "execution_count": 5,
      "metadata": {
        "id": "uJuEfBdDOZ4S"
      },
      "outputs": [],
      "source": [
        "%load_ext tensorboard"
      ]
    },
    {
      "cell_type": "code",
      "execution_count": null,
      "metadata": {
        "id": "LEH51KctOfYK"
      },
      "outputs": [],
      "source": [
        "%tensorboard --logdir /content/logs/"
      ]
    },
    {
      "cell_type": "code",
      "execution_count": 7,
      "metadata": {
        "id": "ymJZEP2XZA1S"
      },
      "outputs": [],
      "source": [
        "import tensorflow as tf\n",
        "\n",
        "model.compile('adam', tf.keras.losses.SparseCategoricalCrossentropy(from_logits=True), metrics=['sparse_categorical_accuracy'])"
      ]
    },
    {
      "cell_type": "code",
      "execution_count": 8,
      "metadata": {
        "colab": {
          "base_uri": "https://localhost:8080/"
        },
        "id": "TfU_dvPQZwjV",
        "outputId": "30aff990-8bfd-4ff6-a971-74dd63465a6e"
      },
      "outputs": [
        {
          "output_type": "stream",
          "name": "stdout",
          "text": [
            "Epoch 1/25\n",
            "\u001b[1m1500/1500\u001b[0m \u001b[32m━━━━━━━━━━━━━━━━━━━━\u001b[0m\u001b[37m\u001b[0m \u001b[1m16s\u001b[0m 6ms/step - loss: 0.9398 - sparse_categorical_accuracy: 0.6545 - val_loss: 0.4302 - val_sparse_categorical_accuracy: 0.8401\n",
            "Epoch 2/25\n",
            "\u001b[1m1500/1500\u001b[0m \u001b[32m━━━━━━━━━━━━━━━━━━━━\u001b[0m\u001b[37m\u001b[0m \u001b[1m8s\u001b[0m 5ms/step - loss: 0.4503 - sparse_categorical_accuracy: 0.8367 - val_loss: 0.3562 - val_sparse_categorical_accuracy: 0.8688\n",
            "Epoch 3/25\n",
            "\u001b[1m1500/1500\u001b[0m \u001b[32m━━━━━━━━━━━━━━━━━━━━\u001b[0m\u001b[37m\u001b[0m \u001b[1m11s\u001b[0m 5ms/step - loss: 0.3948 - sparse_categorical_accuracy: 0.8560 - val_loss: 0.3301 - val_sparse_categorical_accuracy: 0.8753\n",
            "Epoch 4/25\n",
            "\u001b[1m1500/1500\u001b[0m \u001b[32m━━━━━━━━━━━━━━━━━━━━\u001b[0m\u001b[37m\u001b[0m \u001b[1m10s\u001b[0m 5ms/step - loss: 0.3583 - sparse_categorical_accuracy: 0.8688 - val_loss: 0.3049 - val_sparse_categorical_accuracy: 0.8856\n",
            "Epoch 5/25\n",
            "\u001b[1m1500/1500\u001b[0m \u001b[32m━━━━━━━━━━━━━━━━━━━━\u001b[0m\u001b[37m\u001b[0m \u001b[1m8s\u001b[0m 5ms/step - loss: 0.3326 - sparse_categorical_accuracy: 0.8759 - val_loss: 0.2868 - val_sparse_categorical_accuracy: 0.8930\n",
            "Epoch 6/25\n",
            "\u001b[1m1500/1500\u001b[0m \u001b[32m━━━━━━━━━━━━━━━━━━━━\u001b[0m\u001b[37m\u001b[0m \u001b[1m8s\u001b[0m 5ms/step - loss: 0.3240 - sparse_categorical_accuracy: 0.8798 - val_loss: 0.2832 - val_sparse_categorical_accuracy: 0.8958\n",
            "Epoch 7/25\n",
            "\u001b[1m1500/1500\u001b[0m \u001b[32m━━━━━━━━━━━━━━━━━━━━\u001b[0m\u001b[37m\u001b[0m \u001b[1m11s\u001b[0m 5ms/step - loss: 0.3017 - sparse_categorical_accuracy: 0.8859 - val_loss: 0.2648 - val_sparse_categorical_accuracy: 0.8999\n",
            "Epoch 8/25\n",
            "\u001b[1m1500/1500\u001b[0m \u001b[32m━━━━━━━━━━━━━━━━━━━━\u001b[0m\u001b[37m\u001b[0m \u001b[1m10s\u001b[0m 5ms/step - loss: 0.2865 - sparse_categorical_accuracy: 0.8935 - val_loss: 0.2601 - val_sparse_categorical_accuracy: 0.9068\n",
            "Epoch 9/25\n",
            "\u001b[1m1500/1500\u001b[0m \u001b[32m━━━━━━━━━━━━━━━━━━━━\u001b[0m\u001b[37m\u001b[0m \u001b[1m8s\u001b[0m 5ms/step - loss: 0.2781 - sparse_categorical_accuracy: 0.8988 - val_loss: 0.2622 - val_sparse_categorical_accuracy: 0.9042\n",
            "Epoch 10/25\n",
            "\u001b[1m1500/1500\u001b[0m \u001b[32m━━━━━━━━━━━━━━━━━━━━\u001b[0m\u001b[37m\u001b[0m \u001b[1m10s\u001b[0m 5ms/step - loss: 0.2772 - sparse_categorical_accuracy: 0.8995 - val_loss: 0.2490 - val_sparse_categorical_accuracy: 0.9087\n",
            "Epoch 11/25\n",
            "\u001b[1m1500/1500\u001b[0m \u001b[32m━━━━━━━━━━━━━━━━━━━━\u001b[0m\u001b[37m\u001b[0m \u001b[1m10s\u001b[0m 5ms/step - loss: 0.2618 - sparse_categorical_accuracy: 0.9024 - val_loss: 0.2494 - val_sparse_categorical_accuracy: 0.9062\n",
            "Epoch 12/25\n",
            "\u001b[1m1500/1500\u001b[0m \u001b[32m━━━━━━━━━━━━━━━━━━━━\u001b[0m\u001b[37m\u001b[0m \u001b[1m7s\u001b[0m 5ms/step - loss: 0.2581 - sparse_categorical_accuracy: 0.9050 - val_loss: 0.2433 - val_sparse_categorical_accuracy: 0.9123\n",
            "Epoch 13/25\n",
            "\u001b[1m1500/1500\u001b[0m \u001b[32m━━━━━━━━━━━━━━━━━━━━\u001b[0m\u001b[37m\u001b[0m \u001b[1m7s\u001b[0m 5ms/step - loss: 0.2536 - sparse_categorical_accuracy: 0.9064 - val_loss: 0.2444 - val_sparse_categorical_accuracy: 0.9107\n",
            "Epoch 14/25\n",
            "\u001b[1m1500/1500\u001b[0m \u001b[32m━━━━━━━━━━━━━━━━━━━━\u001b[0m\u001b[37m\u001b[0m \u001b[1m8s\u001b[0m 5ms/step - loss: 0.2470 - sparse_categorical_accuracy: 0.9077 - val_loss: 0.2414 - val_sparse_categorical_accuracy: 0.9113\n",
            "Epoch 15/25\n",
            "\u001b[1m1500/1500\u001b[0m \u001b[32m━━━━━━━━━━━━━━━━━━━━\u001b[0m\u001b[37m\u001b[0m \u001b[1m10s\u001b[0m 5ms/step - loss: 0.2397 - sparse_categorical_accuracy: 0.9106 - val_loss: 0.2420 - val_sparse_categorical_accuracy: 0.9115\n",
            "Epoch 16/25\n",
            "\u001b[1m1500/1500\u001b[0m \u001b[32m━━━━━━━━━━━━━━━━━━━━\u001b[0m\u001b[37m\u001b[0m \u001b[1m10s\u001b[0m 5ms/step - loss: 0.2346 - sparse_categorical_accuracy: 0.9117 - val_loss: 0.2349 - val_sparse_categorical_accuracy: 0.9136\n",
            "Epoch 17/25\n",
            "\u001b[1m1500/1500\u001b[0m \u001b[32m━━━━━━━━━━━━━━━━━━━━\u001b[0m\u001b[37m\u001b[0m \u001b[1m10s\u001b[0m 5ms/step - loss: 0.2317 - sparse_categorical_accuracy: 0.9136 - val_loss: 0.2305 - val_sparse_categorical_accuracy: 0.9140\n",
            "Epoch 18/25\n",
            "\u001b[1m1500/1500\u001b[0m \u001b[32m━━━━━━━━━━━━━━━━━━━━\u001b[0m\u001b[37m\u001b[0m \u001b[1m10s\u001b[0m 5ms/step - loss: 0.2289 - sparse_categorical_accuracy: 0.9167 - val_loss: 0.2321 - val_sparse_categorical_accuracy: 0.9146\n",
            "Epoch 19/25\n",
            "\u001b[1m1500/1500\u001b[0m \u001b[32m━━━━━━━━━━━━━━━━━━━━\u001b[0m\u001b[37m\u001b[0m \u001b[1m10s\u001b[0m 5ms/step - loss: 0.2198 - sparse_categorical_accuracy: 0.9193 - val_loss: 0.2328 - val_sparse_categorical_accuracy: 0.9139\n",
            "Epoch 20/25\n",
            "\u001b[1m1500/1500\u001b[0m \u001b[32m━━━━━━━━━━━━━━━━━━━━\u001b[0m\u001b[37m\u001b[0m \u001b[1m8s\u001b[0m 5ms/step - loss: 0.2179 - sparse_categorical_accuracy: 0.9195 - val_loss: 0.2289 - val_sparse_categorical_accuracy: 0.9160\n",
            "Epoch 21/25\n",
            "\u001b[1m1500/1500\u001b[0m \u001b[32m━━━━━━━━━━━━━━━━━━━━\u001b[0m\u001b[37m\u001b[0m \u001b[1m11s\u001b[0m 5ms/step - loss: 0.2150 - sparse_categorical_accuracy: 0.9197 - val_loss: 0.2371 - val_sparse_categorical_accuracy: 0.9162\n",
            "Epoch 22/25\n",
            "\u001b[1m1500/1500\u001b[0m \u001b[32m━━━━━━━━━━━━━━━━━━━━\u001b[0m\u001b[37m\u001b[0m \u001b[1m10s\u001b[0m 5ms/step - loss: 0.2147 - sparse_categorical_accuracy: 0.9192 - val_loss: 0.2330 - val_sparse_categorical_accuracy: 0.9154\n",
            "Epoch 23/25\n",
            "\u001b[1m1500/1500\u001b[0m \u001b[32m━━━━━━━━━━━━━━━━━━━━\u001b[0m\u001b[37m\u001b[0m \u001b[1m7s\u001b[0m 5ms/step - loss: 0.2082 - sparse_categorical_accuracy: 0.9204 - val_loss: 0.2260 - val_sparse_categorical_accuracy: 0.9152\n",
            "Epoch 24/25\n",
            "\u001b[1m1500/1500\u001b[0m \u001b[32m━━━━━━━━━━━━━━━━━━━━\u001b[0m\u001b[37m\u001b[0m \u001b[1m11s\u001b[0m 5ms/step - loss: 0.2099 - sparse_categorical_accuracy: 0.9206 - val_loss: 0.2350 - val_sparse_categorical_accuracy: 0.9136\n",
            "Epoch 25/25\n",
            "\u001b[1m1500/1500\u001b[0m \u001b[32m━━━━━━━━━━━━━━━━━━━━\u001b[0m\u001b[37m\u001b[0m \u001b[1m8s\u001b[0m 5ms/step - loss: 0.2034 - sparse_categorical_accuracy: 0.9254 - val_loss: 0.2272 - val_sparse_categorical_accuracy: 0.9176\n"
          ]
        },
        {
          "output_type": "execute_result",
          "data": {
            "text/plain": [
              "<keras.src.callbacks.history.History at 0x7848951d3110>"
            ]
          },
          "metadata": {},
          "execution_count": 8
        }
      ],
      "source": [
        "model.fit(x_train, y_train, batch_size=32, epochs=25, validation_split=0.2, callbacks=[myTensorBoard])"
      ]
    },
    {
      "cell_type": "code",
      "execution_count": 9,
      "metadata": {
        "colab": {
          "base_uri": "https://localhost:8080/"
        },
        "id": "-2eQ-lDWTIMR",
        "outputId": "39b0029d-8f2d-4d76-9b9c-ab6d5263f45b"
      },
      "outputs": [
        {
          "output_type": "stream",
          "name": "stdout",
          "text": [
            "  adding: logs/ (stored 0%)\n",
            "  adding: logs/fit/ (stored 0%)\n",
            "  adding: logs/fit/20250709-095649/ (stored 0%)\n",
            "  adding: logs/fit/20250709-095649/train/ (stored 0%)\n",
            "  adding: logs/fit/20250709-095649/train/plugins/ (stored 0%)\n",
            "  adding: logs/fit/20250709-095649/train/plugins/profile/ (stored 0%)\n",
            "  adding: logs/fit/20250709-095649/train/plugins/profile/2025_07_09_09_57_02/ (stored 0%)\n",
            "  adding: logs/fit/20250709-095649/train/plugins/profile/2025_07_09_09_57_02/74921bdbd77d.xplane.pb (deflated 79%)\n",
            "  adding: logs/fit/20250709-095649/train/keras_embedding.ckpt-10.weights.h5 (deflated 21%)\n",
            "  adding: logs/fit/20250709-095649/train/keras_embedding.ckpt-0.weights.h5 (deflated 20%)\n",
            "  adding: logs/fit/20250709-095649/train/events.out.tfevents.1752055015.74921bdbd77d.381.0.v2 (deflated 60%)\n",
            "  adding: logs/fit/20250709-095649/train/keras_embedding.ckpt-20.weights.h5 (deflated 21%)\n",
            "  adding: logs/fit/20250709-095649/validation/ (stored 0%)\n",
            "  adding: logs/fit/20250709-095649/validation/events.out.tfevents.1752055028.74921bdbd77d.381.1.v2 (deflated 78%)\n",
            "  adding: logs/fit/20250709-095649/projector_config.pbtxt (stored 0%)\n"
          ]
        }
      ],
      "source": [
        "! zip -r logs.zip logs"
      ]
    },
    {
      "cell_type": "code",
      "execution_count": null,
      "metadata": {
        "id": "hVvnCJf9c_0y"
      },
      "outputs": [],
      "source": []
    }
  ],
  "metadata": {
    "accelerator": "GPU",
    "colab": {
      "gpuType": "T4",
      "provenance": []
    },
    "kernelspec": {
      "display_name": "Python 3",
      "name": "python3"
    },
    "language_info": {
      "name": "python"
    }
  },
  "nbformat": 4,
  "nbformat_minor": 0
}