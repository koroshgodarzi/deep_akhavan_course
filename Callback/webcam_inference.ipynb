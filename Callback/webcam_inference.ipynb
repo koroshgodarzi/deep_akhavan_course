{
 "cells": [
  {
   "cell_type": "code",
   "execution_count": 33,
   "metadata": {
    "id": "EwkmprQebysj"
   },
   "outputs": [],
   "source": [
    "import tensorflow as tf\n",
    "from tensorflow import keras\n",
    "from keras.applications import DenseNet121\n",
    "from keras.applications.densenet import decode_predictions\n",
    "\n",
    "my_dense_model = DenseNet121()"
   ]
  },
  {
   "cell_type": "code",
   "execution_count": 34,
   "metadata": {
    "id": "BoQNu0qudfPq"
   },
   "outputs": [],
   "source": [
    "image_prep = keras.applications.densenet.preprocess_input\n",
    "\n",
    "def inference(img):\n",
    "    img = image_prep(img)\n",
    "    img = tf.expand_dims(img, axis=0)\n",
    "    pred = decode_predictions(my_dense_model.predict(img, verbose=0), top=3)\n",
    "    print(pred[0])\n",
    "    return my_dense_model(img)"
   ]
  },
  {
   "cell_type": "code",
   "execution_count": 35,
   "metadata": {
    "colab": {
     "base_uri": "https://localhost:8080/"
    },
    "id": "vUG1Dl3FjEZs",
    "outputId": "1f877fbd-b391-4004-fd73-fc6f49d65c74"
   },
   "outputs": [
    {
     "name": "stdout",
     "output_type": "stream",
     "text": [
      "[('n03877472', 'pajama', np.float32(0.27063626)), ('n04081281', 'restaurant', np.float32(0.06255582)), ('n03814639', 'neck_brace', np.float32(0.028698446))]\n"
     ]
    }
   ],
   "source": [
    "import cv2\n",
    "import numpy as np\n",
    "import matplotlib.pyplot as plt\n",
    "from IPython.display import clear_output\n",
    "\n",
    "cam = cv2.VideoCapture(0)\n",
    "while True:\n",
    "    clear_output(wait=True)\n",
    "    read, img = cam.read()\n",
    "    if not read:\n",
    "        print('Camera not available!')\n",
    "        break\n",
    "    cv2.imshow('webcam', img)\n",
    "    img = cv2.cvtColor(img, cv2.COLOR_BGR2RGB)\n",
    "    img = cv2.resize(img, (224, 224))\n",
    "    inference(img)\n",
    "    if cv2.waitKey(1) == ord('q'):\n",
    "      break\n",
    "\n",
    "cam.release()\n",
    "cv2.destroyAllWindows()\n"
   ]
  },
  {
   "cell_type": "code",
   "execution_count": null,
   "metadata": {
    "id": "iTeAiaLJ7w0L"
   },
   "outputs": [],
   "source": []
  }
 ],
 "metadata": {
  "colab": {
   "provenance": []
  },
  "kernelspec": {
   "display_name": "Python 3 (ipykernel)",
   "language": "python",
   "name": "python3"
  },
  "language_info": {
   "codemirror_mode": {
    "name": "ipython",
    "version": 3
   },
   "file_extension": ".py",
   "mimetype": "text/x-python",
   "name": "python",
   "nbconvert_exporter": "python",
   "pygments_lexer": "ipython3",
   "version": "3.10.13"
  }
 },
 "nbformat": 4,
 "nbformat_minor": 4
}
