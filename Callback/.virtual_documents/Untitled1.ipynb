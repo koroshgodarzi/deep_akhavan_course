import tensorflow as tf
from tensorflow import keras
from keras.applications import DenseNet121

my_dense_model = DenseNet121()


image_prep = keras.applications.densenet.preprocess_input

def inference(img):
    img = image_prep(img)
    img = tf.expand_dims(img, axis=0)
    return my_dense_model(img)


import cv2

cam = cv2.VideoCapture(0)
while True:
    read, frame = cam.read()
    if not read:
        print('Camera not available!')
        break
    print(frame.shape)
    break

cam.release()
cv2.destroyAllWindows()



